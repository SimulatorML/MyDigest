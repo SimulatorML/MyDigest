{
 "cells": [
  {
   "cell_type": "code",
   "execution_count": 11,
   "metadata": {},
   "outputs": [],
   "source": [
    "import hashlib\n",
    "import pandas as pd\n",
    "from typing import List"
   ]
  },
  {
   "cell_type": "code",
   "execution_count": 12,
   "metadata": {},
   "outputs": [
    {
     "name": "stdout",
     "output_type": "stream",
     "text": [
      "   channel_id     user_id     channel_name                 channel_link  \\\n",
      "0           1  1129111522      @south_work      https://t.me/south_work   \n",
      "1         149  1129111522   @banki_broshka   https://t.me/banki_broshka   \n",
      "2         150  1129111522      @meduzalive      https://t.me/meduzalive   \n",
      "3         163  1006278099  @if_market_news  https://t.me/if_market_news   \n",
      "4         166  6646383117      @meduzalive      https://t.me/meduzalive   \n",
      "\n",
      "           addition_timestamp  is_active  \\\n",
      "0  2025-03-24 23:00:36.072071       True   \n",
      "1  2025-03-03 17:01:39.599933      False   \n",
      "2  2025-03-17 00:00:35.257657      False   \n",
      "3  2025-03-22 09:57:00.340668       True   \n",
      "4  2025-02-14 22:52:58.246097       True   \n",
      "\n",
      "                              channel_topic  hashed_channel  \n",
      "0  [\"Образование\",\"стажировки\",\"стипендии\"]             NaN  \n",
      "1           [\"Банки\",\"финансы\",\"экономика\"]             NaN  \n",
      "2           [\"Политика\",\"военные действия\"]             NaN  \n",
      "3        [\"Новости\",\"экономика\",\"политика\"]             NaN  \n",
      "4           [\"Политика\",\"военные действия\"]             NaN  \n"
     ]
    }
   ],
   "source": [
    "df = pd.read_csv('/Users/alexey_macos/Downloads/user_channels_duplicate_rows.csv')\n",
    "head_df = df.head()\n",
    "print(head_df)"
   ]
  },
  {
   "cell_type": "code",
   "execution_count": 9,
   "metadata": {},
   "outputs": [
    {
     "name": "stdout",
     "output_type": "stream",
     "text": [
      "<class 'pandas.core.frame.DataFrame'>\n",
      "RangeIndex: 191 entries, 0 to 190\n",
      "Data columns (total 8 columns):\n",
      " #   Column              Non-Null Count  Dtype  \n",
      "---  ------              --------------  -----  \n",
      " 0   channel_id          191 non-null    int64  \n",
      " 1   user_id             191 non-null    int64  \n",
      " 2   channel_name        191 non-null    object \n",
      " 3   channel_link        191 non-null    object \n",
      " 4   addition_timestamp  191 non-null    object \n",
      " 5   is_active           191 non-null    bool   \n",
      " 6   channel_topic       191 non-null    object \n",
      " 7   hashed_channel      0 non-null      float64\n",
      "dtypes: bool(1), float64(1), int64(2), object(4)\n",
      "memory usage: 10.8+ KB\n"
     ]
    }
   ],
   "source": [
    "df.info()"
   ]
  },
  {
   "cell_type": "code",
   "execution_count": 10,
   "metadata": {},
   "outputs": [],
   "source": [
    "def generate_channel_hash(channel_name: str) -> int:\n",
    "    \"\"\"Generate a SHA-256 hash in int8 format for Postgres DB.\"\"\"\n",
    "    hash_bytes = hashlib.sha256(channel_name.encode(\"utf-8\")).digest()[:8]\n",
    "    hash_int = int.from_bytes(hash_bytes, byteorder='big', signed=False)\n",
    "    # signed изменён с True на False, что гарантирует возврат только положительных значений\n",
    "    return hash_int % (2**63) # Ограничение до 63 бит\n",
    "\n",
    "\n",
    "# channel_name = '@KarpovCourses'\n",
    "# channel_topic = [\"Технологии и IT\",\"Apple\"]\n",
    "# hashed_channel = generate_channel_hash(channel_name)\n",
    "# hashed_channel = generate_channel_hash(channel_name, channel_topic)\n",
    "# print(f'Hashed channel: {hashed_channel}', f'\\ntype of Hashed channel: {type(hashed_channel)}')"
   ]
  },
  {
   "cell_type": "code",
   "execution_count": 7,
   "metadata": {},
   "outputs": [],
   "source": [
    "# Generate hashes for each unique channel name\n",
    "channel_name_to_hash = {}\n",
    "for channel_name in df['channel_name'].unique():\n",
    "    channel_name_to_hash[channel_name] = generate_channel_hash(channel_name)\n",
    "\n",
    "# update the 'hashed_channel_name' column\n",
    "df['hashed_channel'] = df['channel_name'].map(channel_name_to_hash)\n",
    "\n",
    "# replace the 'channel_id' column with the 'hashed_channel_name' column\n",
    "df['channel_id'] = df['hashed_channel']\n",
    "\n",
    "df.to_csv('/Users/alexey_macos/Downloads/user_channels_dublicate_rows_hashed_channel.csv', index=False)"
   ]
  }
 ],
 "metadata": {
  "kernelspec": {
   "display_name": "Python 3",
   "language": "python",
   "name": "python3"
  },
  "language_info": {
   "codemirror_mode": {
    "name": "ipython",
    "version": 3
   },
   "file_extension": ".py",
   "mimetype": "text/x-python",
   "name": "python",
   "nbconvert_exporter": "python",
   "pygments_lexer": "ipython3",
   "version": "3.12.0"
  }
 },
 "nbformat": 4,
 "nbformat_minor": 2
}
